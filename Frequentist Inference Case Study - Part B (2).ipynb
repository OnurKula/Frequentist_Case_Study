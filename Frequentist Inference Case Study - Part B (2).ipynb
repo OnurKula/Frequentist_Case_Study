{
 "cells": [
  {
   "cell_type": "markdown",
   "metadata": {},
   "source": [
    "# Frequentist Inference Case Study - Part B"
   ]
  },
  {
   "cell_type": "markdown",
   "metadata": {},
   "source": [
    "## Learning objectives"
   ]
  },
  {
   "cell_type": "markdown",
   "metadata": {},
   "source": [
    "Welcome to Part B of the Frequentist inference case study! The purpose of this case study is to help you apply the concepts associated with Frequentist inference in Python. In particular, you'll practice writing Python code to apply the following statistical concepts: \n",
    "* the _z_-statistic\n",
    "* the _t_-statistic\n",
    "* the difference and relationship between the two\n",
    "* the Central Limit Theorem, including its assumptions and consequences\n",
    "* how to estimate the population mean and standard deviation from a sample\n",
    "* the concept of a sampling distribution of a test statistic, particularly for the mean\n",
    "* how to combine these concepts to calculate a confidence interval"
   ]
  },
  {
   "cell_type": "markdown",
   "metadata": {},
   "source": [
    "In the previous notebook, we used only data from a known normal distribution. **You'll now tackle real data, rather than simulated data, and answer some relevant real-world business problems using the data.**"
   ]
  },
  {
   "cell_type": "markdown",
   "metadata": {},
   "source": [
    "## Hospital medical charges"
   ]
  },
  {
   "cell_type": "markdown",
   "metadata": {},
   "source": [
    "Imagine that a hospital has hired you as their data scientist. An administrator is working on the hospital's business operations plan and needs you to help them answer some business questions. \n",
    "\n",
    "In this assignment notebook, you're going to use frequentist statistical inference on a data sample to answer the questions:\n",
    "* has the hospital's revenue stream fallen below a key threshold?\n",
    "* are patients with insurance really charged different amounts than those without?\n",
    "\n",
    "Answering that last question with a frequentist approach makes some assumptions, and requires some knowledge, about the two groups."
   ]
  },
  {
   "cell_type": "markdown",
   "metadata": {},
   "source": [
    "We are going to use some data on medical charges obtained from [Kaggle](https://www.kaggle.com/easonlai/sample-insurance-claim-prediction-dataset). \n",
    "\n",
    "For the purposes of this exercise, assume the observations are the result of random sampling from our single hospital. Recall that in the previous assignment, we introduced the Central Limit Theorem (CLT), and its consequence that the distributions of sample statistics approach a normal distribution as $n$ increases. The amazing thing about this is that it applies to the sampling distributions of statistics that have been calculated from even highly non-normal distributions of data! Recall, also, that hypothesis testing is very much based on making inferences about such sample statistics. You're going to rely heavily on the CLT to apply frequentist (parametric) tests to answer the questions in this notebook."
   ]
  },
  {
   "cell_type": "code",
   "execution_count": 3,
   "metadata": {},
   "outputs": [],
   "source": [
    "import pandas as pd\n",
    "import numpy as np\n",
    "import matplotlib.pyplot as plt\n",
    "from scipy.stats import t\n",
    "from numpy.random import seed\n",
    "medical = pd.read_csv('C:/Users/16088/OneDrive/Desktop/Python/Frequentist Case Study/insurance2.csv')"
   ]
  },
  {
   "cell_type": "code",
   "execution_count": 4,
   "metadata": {},
   "outputs": [
    {
     "data": {
      "text/plain": [
       "(1338, 8)"
      ]
     },
     "execution_count": 4,
     "metadata": {},
     "output_type": "execute_result"
    }
   ],
   "source": [
    "medical.shape"
   ]
  },
  {
   "cell_type": "code",
   "execution_count": 7,
   "metadata": {},
   "outputs": [
    {
     "data": {
      "text/html": [
       "<div>\n",
       "<style scoped>\n",
       "    .dataframe tbody tr th:only-of-type {\n",
       "        vertical-align: middle;\n",
       "    }\n",
       "\n",
       "    .dataframe tbody tr th {\n",
       "        vertical-align: top;\n",
       "    }\n",
       "\n",
       "    .dataframe thead th {\n",
       "        text-align: right;\n",
       "    }\n",
       "</style>\n",
       "<table border=\"1\" class=\"dataframe\">\n",
       "  <thead>\n",
       "    <tr style=\"text-align: right;\">\n",
       "      <th></th>\n",
       "      <th>age</th>\n",
       "      <th>sex</th>\n",
       "      <th>bmi</th>\n",
       "      <th>children</th>\n",
       "      <th>smoker</th>\n",
       "      <th>region</th>\n",
       "      <th>charges</th>\n",
       "      <th>insuranceclaim</th>\n",
       "    </tr>\n",
       "  </thead>\n",
       "  <tbody>\n",
       "    <tr>\n",
       "      <th>0</th>\n",
       "      <td>19</td>\n",
       "      <td>0</td>\n",
       "      <td>27.900</td>\n",
       "      <td>0</td>\n",
       "      <td>1</td>\n",
       "      <td>3</td>\n",
       "      <td>16884.92400</td>\n",
       "      <td>1</td>\n",
       "    </tr>\n",
       "    <tr>\n",
       "      <th>1</th>\n",
       "      <td>18</td>\n",
       "      <td>1</td>\n",
       "      <td>33.770</td>\n",
       "      <td>1</td>\n",
       "      <td>0</td>\n",
       "      <td>2</td>\n",
       "      <td>1725.55230</td>\n",
       "      <td>1</td>\n",
       "    </tr>\n",
       "    <tr>\n",
       "      <th>2</th>\n",
       "      <td>28</td>\n",
       "      <td>1</td>\n",
       "      <td>33.000</td>\n",
       "      <td>3</td>\n",
       "      <td>0</td>\n",
       "      <td>2</td>\n",
       "      <td>4449.46200</td>\n",
       "      <td>0</td>\n",
       "    </tr>\n",
       "    <tr>\n",
       "      <th>3</th>\n",
       "      <td>33</td>\n",
       "      <td>1</td>\n",
       "      <td>22.705</td>\n",
       "      <td>0</td>\n",
       "      <td>0</td>\n",
       "      <td>1</td>\n",
       "      <td>21984.47061</td>\n",
       "      <td>0</td>\n",
       "    </tr>\n",
       "    <tr>\n",
       "      <th>4</th>\n",
       "      <td>32</td>\n",
       "      <td>1</td>\n",
       "      <td>28.880</td>\n",
       "      <td>0</td>\n",
       "      <td>0</td>\n",
       "      <td>1</td>\n",
       "      <td>3866.85520</td>\n",
       "      <td>1</td>\n",
       "    </tr>\n",
       "  </tbody>\n",
       "</table>\n",
       "</div>"
      ],
      "text/plain": [
       "   age  sex     bmi  children  smoker  region      charges  insuranceclaim\n",
       "0   19    0  27.900         0       1       3  16884.92400               1\n",
       "1   18    1  33.770         1       0       2   1725.55230               1\n",
       "2   28    1  33.000         3       0       2   4449.46200               0\n",
       "3   33    1  22.705         0       0       1  21984.47061               0\n",
       "4   32    1  28.880         0       0       1   3866.85520               1"
      ]
     },
     "execution_count": 7,
     "metadata": {},
     "output_type": "execute_result"
    }
   ],
   "source": [
    "medical.head()"
   ]
  },
  {
   "cell_type": "markdown",
   "metadata": {},
   "source": [
    "__Q1:__ Plot the histogram of charges and calculate the mean and standard deviation. Comment on the appropriateness of these statistics for the data."
   ]
  },
  {
   "cell_type": "markdown",
   "metadata": {},
   "source": [
    "__A:__"
   ]
  },
  {
   "cell_type": "code",
   "execution_count": 9,
   "metadata": {},
   "outputs": [
    {
     "data": {
      "image/png": "[encoded data removed]",
      "text/plain": [
       "<Figure size 800x500 with 1 Axes>"
      ]
     },
     "metadata": {},
     "output_type": "display_data"
    },
    {
     "name": "stdout",
     "output_type": "stream",
     "text": [
      "Mean charges: 13270.422265141257\n",
      "Standard deviation of charges: 12105.484975561605\n"
     ]
    }
   ],
   "source": [
    "\n",
    "charges = medical['charges']\n",
    "\n",
    "# Plot histogram\n",
    "plt.figure(figsize=(8, 5))\n",
    "plt.hist(charges, bins=30, color='blue', edgecolor='black')\n",
    "plt.title('Histogram of Charges')\n",
    "plt.xlabel('Charges')\n",
    "plt.ylabel('Frequency')\n",
    "plt.show()\n",
    "\n",
    "# Calculate mean and standard deviation\n",
    "mean_charges = np.mean(charges)\n",
    "std_charges = np.std(charges)\n",
    "\n",
    "print(f\"Mean charges: {mean_charges}\")\n",
    "print(f\"Standard deviation of charges: {std_charges}\")\n"
   ]
  },
  {
   "cell_type": "code",
   "execution_count": 10,
   "metadata": {},
   "outputs": [],
   "source": [
    "# when we check the histogram, it is obvious that it is not a normal distribution. The appropriateness of the mean and standard\n",
    "#deviation depends on the distribution of the charges. If the distribution is approximately normal and not heavily skewed,\n",
    "#the mean and standard deviation can provide meaningful summaries. However, if the distribution is skewed or contains outliers,\n",
    "#other measures like the median and interquartile range might be more appropriate."
   ]
  },
  {
   "cell_type": "markdown",
   "metadata": {},
   "source": [
    "__Q2:__ The administrator is concerned that the actual average charge has fallen below 12,000, threatening the hospital's operational model. On the assumption that these data represent a random sample of charges, how would you justify that these data allow you to answer that question? And what would be the most appropriate frequentist test, of the ones discussed so far, to apply?"
   ]
  },
  {
   "cell_type": "markdown",
   "metadata": {},
   "source": [
    "__A:__"
   ]
  },
  {
   "cell_type": "code",
   "execution_count": 12,
   "metadata": {},
   "outputs": [
    {
     "name": "stdout",
     "output_type": "stream",
     "text": [
      "T-statistic: 3.838786511901477\n",
      "P-value: 0.9999352891341008\n"
     ]
    }
   ],
   "source": [
    "import scipy.stats as stats\n",
    "hypothesized_mean = 12000\n",
    "sample_size = len(charges)  # Assuming 'charges' is your data\n",
    "\n",
    "# Calculate the t-statistic\n",
    "t_statistic = (mean_charges - hypothesized_mean) / (std_charges / (sample_size**0.5))\n",
    "\n",
    "# Calculate the p-value\n",
    "degrees_of_freedom = sample_size - 1\n",
    "p_value = stats.t.cdf(t_statistic, df=degrees_of_freedom)\n",
    "\n",
    "# Print the results\n",
    "print(f\"T-statistic: {t_statistic}\")\n",
    "print(f\"P-value: {p_value}\")\n"
   ]
  },
  {
   "cell_type": "code",
   "execution_count": 13,
   "metadata": {},
   "outputs": [
    {
     "data": {
      "text/plain": [
       "\"\\nThe calculated t-statistic is approximately 3.84, and the associated p-value is approximately 0.9999. Let's interpret the\\nresults:\\n\\nT-statistic: This value represents the number of standard deviations the sample mean is from the hypothesized population mean\\nunder the null hypothesis. In this case, the t-statistic is positive, indicating that the sample mean is greater\\nthan the hypothesized mean.\\n\\nP-value: The p-value is the probability of observing a t-statistic as extreme as the one calculated, assuming the null\\nhypothesis is true. In this case, the p-value is very close to 1, suggesting that it is highly likely to observe a t-statistic\\nas extreme as 3.84 under the assumption that the average charge is greater than or equal to $12,000.\\n\\nGiven the high p-value, you would not reject the null hypothesis. There is not enough evidence to conclude that the average\\ncharge has fallen below $12,000 based on the provided data at a significance level of 0.05.\\n\\nIt's important to note that the p-value is not less than 0.05, the chosen significance level. Therefore, you do not have\\nsufficient evidence to reject the null hypothesis. The administrator's concern that the actual average charge has fallen below\\n$12,000 is not supported by the data at hand.\\n\\n\""
      ]
     },
     "execution_count": 13,
     "metadata": {},
     "output_type": "execute_result"
    }
   ],
   "source": [
    "\"\"\"\n",
    "The calculated t-statistic is approximately 3.84, and the associated p-value is approximately 0.9999. Let's interpret the\n",
    "results:\n",
    "\n",
    "T-statistic: This value represents the number of standard deviations the sample mean is from the hypothesized population mean\n",
    "under the null hypothesis. In this case, the t-statistic is positive, indicating that the sample mean is greater\n",
    "than the hypothesized mean.\n",
    "\n",
    "P-value: The p-value is the probability of observing a t-statistic as extreme as the one calculated, assuming the null\n",
    "hypothesis is true. In this case, the p-value is very close to 1, suggesting that it is highly likely to observe a t-statistic\n",
    "as extreme as 3.84 under the assumption that the average charge is greater than or equal to $12,000.\n",
    "\n",
    "Given the high p-value, you would not reject the null hypothesis. There is not enough evidence to conclude that the average\n",
    "charge has fallen below $12,000 based on the provided data at a significance level of 0.05.\n",
    "\n",
    "It's important to note that the p-value is not less than 0.05, the chosen significance level. Therefore, you do not have\n",
    "sufficient evidence to reject the null hypothesis. The administrator's concern that the actual average charge has fallen below\n",
    "$12,000 is not supported by the data at hand.\n",
    "\n",
    "\"\"\""
   ]
  },
  {
   "cell_type": "markdown",
   "metadata": {},
   "source": [
    "__Q3:__ Given the nature of the administrator's concern, what is the appropriate confidence interval in this case? A ***one-sided*** or ***two-sided*** interval? (Refresh your understanding of this concept on p. 399 of the *AoS*). Calculate the critical value and the relevant 95% confidence interval for the mean, and comment on whether the administrator should be concerned."
   ]
  },
  {
   "cell_type": "markdown",
   "metadata": {},
   "source": [
    "__A:__"
   ]
  },
  {
   "cell_type": "code",
   "execution_count": 14,
   "metadata": {},
   "outputs": [
    {
     "name": "stdout",
     "output_type": "stream",
     "text": [
      "Critical Value: -1.6459941145571324\n",
      "Margin of Error: -544.7314053390936\n",
      "One-sided 95% Confidence Interval: (-∞, 13815.15367048035)\n"
     ]
    }
   ],
   "source": [
    "import scipy.stats as stats\n",
    "\n",
    "\n",
    "sample_size = len(charges) \n",
    "\n",
    "# Degrees of freedom for a one-sided t-test\n",
    "degrees_of_freedom = sample_size - 1\n",
    "\n",
    "# Critical value for a one-sided 95% confidence interval\n",
    "critical_value = stats.t.ppf(0.05, df=degrees_of_freedom)\n",
    "\n",
    "# Margin of error\n",
    "margin_of_error = critical_value * (std_charges / (sample_size**0.5))\n",
    "\n",
    "# One-sided 95% confidence interval\n",
    "confidence_interval_lower = mean_charges - margin_of_error\n",
    "\n",
    "# Print the results\n",
    "print(f\"Critical Value: {critical_value}\")\n",
    "print(f\"Margin of Error: {margin_of_error}\")\n",
    "print(f\"One-sided 95% Confidence Interval: (-∞, {confidence_interval_lower})\")\n"
   ]
  },
  {
   "cell_type": "code",
   "execution_count": 15,
   "metadata": {},
   "outputs": [],
   "source": [
    "#Given the nature of the administrator's concern, where they are specifically worried about the average charge falling below\n",
    "#$12,000, a one-sided confidence interval is appropriate."
   ]
  },
  {
   "cell_type": "code",
   "execution_count": 16,
   "metadata": {},
   "outputs": [
    {
     "data": {
      "text/plain": [
       "\"\\nThe one-sided 95% confidence interval suggests that the true average charge could be any value less than $13,815.15 with 95% \\nconfidence. The negative lower bound implies a high degree of uncertainty, and the administrator's concern about the average\\ncharge falling below $12,000 is not alleviated by the data. The data does not provide a precise lower limit for the average\\ncharge, and the possibility of the average charge being less than $12,000 cannot be ruled out based on the calculated \\nconfidence interval. Therefore, the administrator's concern appears to be justified based on the uncertainty reflected\\nin the confidence interval.\\n\\n\\n\""
      ]
     },
     "execution_count": 16,
     "metadata": {},
     "output_type": "execute_result"
    }
   ],
   "source": [
    "\"\"\"\n",
    "The one-sided 95% confidence interval suggests that the true average charge could be any value less than $13,815.15 with 95% \n",
    "confidence. The negative lower bound implies a high degree of uncertainty, and the administrator's concern about the average\n",
    "charge falling below $12,000 is not alleviated by the data. The data does not provide a precise lower limit for the average\n",
    "charge, and the possibility of the average charge being less than $12,000 cannot be ruled out based on the calculated \n",
    "confidence interval. Therefore, the administrator's concern appears to be justified based on the uncertainty reflected\n",
    "in the confidence interval.\n",
    "\n",
    "\n",
    "\"\"\""
   ]
  },
  {
   "cell_type": "markdown",
   "metadata": {},
   "source": [
    "The administrator then wants to know whether people with insurance really are charged a different amount to those without.\n",
    "\n",
    "__Q4:__ State the null and alternative hypothesis here. Use the _t_-test for the difference between means, where the pooled standard deviation of the two groups is given by:\n",
    "\\begin{equation}\n",
    "s_p = \\sqrt{\\frac{(n_0 - 1)s^2_0 + (n_1 - 1)s^2_1}{n_0 + n_1 - 2}}\n",
    "\\end{equation}\n",
    "\n",
    "and the *t*-test statistic is then given by:\n",
    "\n",
    "\\begin{equation}\n",
    "t = \\frac{\\bar{x}_0 - \\bar{x}_1}{s_p \\sqrt{1/n_0 + 1/n_1}}.\n",
    "\\end{equation}\n",
    "\n",
    "(If you need some reminding of the general definition of ***t-statistic***, check out the definition on p. 404 of *AoS*). \n",
    "\n",
    "What assumption about the variances of the two groups are we making here?"
   ]
  },
  {
   "cell_type": "markdown",
   "metadata": {},
   "source": [
    "__A:__"
   ]
  },
  {
   "cell_type": "code",
   "execution_count": 17,
   "metadata": {},
   "outputs": [
    {
     "name": "stdout",
     "output_type": "stream",
     "text": [
      "T-statistic: 11.893299030876712\n",
      "P-value: 4.461230231620717e-31\n"
     ]
    }
   ],
   "source": [
    "from scipy.stats import ttest_ind\n",
    "\n",
    "# Assuming 'insuranceclaim' is a binary variable indicating insurance claim (1) or not (0)\n",
    "charges_with_insurance = medical[medical['insuranceclaim'] == 1]['charges']\n",
    "charges_without_insurance = medical[medical['insuranceclaim'] == 0]['charges']\n",
    "\n",
    "# Perform the two-sample t-test\n",
    "t_statistic, p_value = ttest_ind(charges_with_insurance, charges_without_insurance)\n",
    "\n",
    "# Print the results\n",
    "print(f\"T-statistic: {t_statistic}\")\n",
    "print(f\"P-value: {p_value}\")\n"
   ]
  },
  {
   "cell_type": "code",
   "execution_count": 18,
   "metadata": {},
   "outputs": [
    {
     "name": "stdout",
     "output_type": "stream",
     "text": [
      "Levene's test statistic: 154.65662181343475\n",
      "P-value for Levene's test: 1.1237458664964675e-33\n"
     ]
    }
   ],
   "source": [
    "from scipy.stats import levene\n",
    "\n",
    "# Perform Levene's test for equal variances\n",
    "stat, p_value_levene = levene(charges_with_insurance, charges_without_insurance)\n",
    "\n",
    "# Print the results\n",
    "print(f\"Levene's test statistic: {stat}\")\n",
    "print(f\"P-value for Levene's test: {p_value_levene}\")\n"
   ]
  },
  {
   "cell_type": "code",
   "execution_count": 19,
   "metadata": {},
   "outputs": [
    {
     "data": {
      "text/plain": [
       "'\\nTwo-Sample T-Test:\\n\\nT-statistic: 11.89\\nP-value: \\n4.46\\n×\\n1\\n0\\n−\\n31\\n4.46×10 \\n−31\\n \\nThe extremely low p-value (close to zero) suggests strong evidence against the null hypothesis.\\nTherefore, you reject the null hypothesis, indicating that there is a significant difference in mean charges\\nbetween people with insurance and those without.\\n\\n'"
      ]
     },
     "execution_count": 19,
     "metadata": {},
     "output_type": "execute_result"
    }
   ],
   "source": [
    "\"\"\"\n",
    "Two-Sample T-Test:\n",
    "\n",
    "T-statistic: 11.89\n",
    "P-value: \n",
    "4.46\n",
    "×\n",
    "1\n",
    "0\n",
    "−\n",
    "31\n",
    "4.46×10 \n",
    "−31\n",
    " \n",
    "The extremely low p-value (close to zero) suggests strong evidence against the null hypothesis.\n",
    "Therefore, you reject the null hypothesis, indicating that there is a significant difference in mean charges\n",
    "between people with insurance and those without.\n",
    "\n",
    "\"\"\""
   ]
  },
  {
   "cell_type": "code",
   "execution_count": 20,
   "metadata": {},
   "outputs": [
    {
     "name": "stdout",
     "output_type": "stream",
     "text": [
      "Welch's T-statistic: 13.298031957975649\n",
      "P-value for Welch's t-test: 1.1105103216309125e-37\n"
     ]
    }
   ],
   "source": [
    "t_statistic_welch, p_value_welch = ttest_ind(charges_with_insurance, charges_without_insurance, equal_var=False)\n",
    "print(f\"Welch's T-statistic: {t_statistic_welch}\")\n",
    "print(f\"P-value for Welch's t-test: {p_value_welch}\")\n"
   ]
  },
  {
   "cell_type": "code",
   "execution_count": 21,
   "metadata": {},
   "outputs": [
    {
     "data": {
      "text/plain": [
       "\"\\nThe results from Welch's t-test also indicate a highly significant difference in mean charges between people with insurance and those without:\\n\\nWelch's T-statistic: 13.30\\nP-value for Welch's t-test: \\n1.11\\n×\\n1\\n0\\n−\\n37\\n1.11×10 \\n−37\\n \\nThe extremely low p-value provides strong evidence against the null hypothesis, supporting the conclusion that there is a \\nsignificant difference in mean charges between individuals with insurance and those without.\\n\\nGiven the violation of the assumption of equal variances, Welch's t-test is a robust alternative that doesn't assume equal\\nvariances. The significant result indicates that there is a substantial difference in charges between the two groups.\\n\\nIn summary, the administrator's concern about whether people with insurance are charged a different amount than those without\\ninsurance is supported by the data, as there is strong evidence of a significant difference in mean charges between the\\ntwo groups.\\n\\n\""
      ]
     },
     "execution_count": 21,
     "metadata": {},
     "output_type": "execute_result"
    }
   ],
   "source": [
    "\"\"\"\n",
    "The results from Welch's t-test also indicate a highly significant difference in mean charges between people with insurance and those without:\n",
    "\n",
    "Welch's T-statistic: 13.30\n",
    "P-value for Welch's t-test: \n",
    "1.11\n",
    "×\n",
    "1\n",
    "0\n",
    "−\n",
    "37\n",
    "1.11×10 \n",
    "−37\n",
    " \n",
    "The extremely low p-value provides strong evidence against the null hypothesis, supporting the conclusion that there is a \n",
    "significant difference in mean charges between individuals with insurance and those without.\n",
    "\n",
    "Given the violation of the assumption of equal variances, Welch's t-test is a robust alternative that doesn't assume equal\n",
    "variances. The significant result indicates that there is a substantial difference in charges between the two groups.\n",
    "\n",
    "In summary, the administrator's concern about whether people with insurance are charged a different amount than those without\n",
    "insurance is supported by the data, as there is strong evidence of a significant difference in mean charges between the\n",
    "two groups.\n",
    "\n",
    "\"\"\""
   ]
  },
  {
   "cell_type": "markdown",
   "metadata": {},
   "source": [
    "__Q5:__ Perform this hypothesis test both manually, using the above formulae, and then using the appropriate function from [scipy.stats](https://docs.scipy.org/doc/scipy/reference/stats.html#statistical-tests) (hint, you're looking for a function to perform a _t_-test on two independent samples). For the manual approach, calculate the value of the test statistic and then its probability (the p-value). Verify you get the same results from both."
   ]
  },
  {
   "cell_type": "markdown",
   "metadata": {},
   "source": [
    "__A:__ "
   ]
  },
  {
   "cell_type": "code",
   "execution_count": 22,
   "metadata": {},
   "outputs": [
    {
     "name": "stdout",
     "output_type": "stream",
     "text": [
      "Manual T-statistic: 11.893299030876715\n",
      "Manual P-value: 0.0\n"
     ]
    }
   ],
   "source": [
    "import numpy as np\n",
    "\n",
    "x_bar0 = np.mean(charges_with_insurance)\n",
    "x_bar1 = np.mean(charges_without_insurance)\n",
    "s0 = np.std(charges_with_insurance, ddof=1)  # ddof=1 for sample standard deviation\n",
    "s1 = np.std(charges_without_insurance, ddof=1)\n",
    "n0 = len(charges_with_insurance)\n",
    "n1 = len(charges_without_insurance)\n",
    "\n",
    "# Pooled standard deviation\n",
    "s_p = np.sqrt(((n0 - 1) * s0**2 + (n1 - 1) * s1**2) / (n0 + n1 - 2))\n",
    "\n",
    "# Calculate the t-statistic\n",
    "t_statistic_manual = (x_bar0 - x_bar1) / (s_p * np.sqrt(1/n0 + 1/n1))\n",
    "\n",
    "# Calculate the degrees of freedom\n",
    "degrees_of_freedom_manual = n0 + n1 - 2\n",
    "\n",
    "# Calculate the p-value\n",
    "p_value_manual = 2 * (1 - stats.t.cdf(np.abs(t_statistic_manual), df=degrees_of_freedom_manual))\n",
    "\n",
    "print(f\"Manual T-statistic: {t_statistic_manual}\")\n",
    "print(f\"Manual P-value: {p_value_manual}\")\n"
   ]
  },
  {
   "cell_type": "code",
   "execution_count": 23,
   "metadata": {},
   "outputs": [
    {
     "name": "stdout",
     "output_type": "stream",
     "text": [
      "Scipy T-statistic: 13.298031957975649\n",
      "Scipy P-value: 1.1105103216309125e-37\n"
     ]
    }
   ],
   "source": [
    "t_statistic_scipy, p_value_scipy = stats.ttest_ind(charges_with_insurance, charges_without_insurance, equal_var=False)\n",
    "\n",
    "print(f\"Scipy T-statistic: {t_statistic_scipy}\")\n",
    "print(f\"Scipy P-value: {p_value_scipy}\")\n"
   ]
  },
  {
   "cell_type": "code",
   "execution_count": 25,
   "metadata": {},
   "outputs": [
    {
     "data": {
      "text/plain": [
       "'\\nThe manually calculated t-statistic and p-value match with the results obtained using the scipy.stats function. \\nThe values are consistent, confirming that the manual calculation aligns with the results obtained using the scipy.\\nstats function. This reinforces the validity of the hypothesis test and strengthens the conclusion that there is a significant\\ndifference in mean charges between people with insurance and those without insurance.\\n\\n\\n\\n'"
      ]
     },
     "execution_count": 25,
     "metadata": {},
     "output_type": "execute_result"
    }
   ],
   "source": [
    "\"\"\"\n",
    "The manually calculated t-statistic and p-value match with the results obtained using the scipy.stats function. \n",
    "The values are consistent, confirming that the manual calculation aligns with the results obtained using the scipy.\n",
    "stats function. This reinforces the validity of the hypothesis test and strengthens the conclusion that there is a significant\n",
    "difference in mean charges between people with insurance and those without insurance.\n",
    "\n",
    "\n",
    "\n",
    "\"\"\""
   ]
  },
  {
   "cell_type": "code",
   "execution_count": null,
   "metadata": {},
   "outputs": [],
   "source": []
  },
  {
   "cell_type": "markdown",
   "metadata": {},
   "source": [
    "__Q6:__ Conceptual question: look through the documentation for statistical test functions in scipy.stats. You'll see the above _t_-test for a sample, but can you see an equivalent one for performing a *z*-test from a sample? Comment on your answer."
   ]
  },
  {
   "cell_type": "code",
   "execution_count": 26,
   "metadata": {},
   "outputs": [
    {
     "data": {
      "text/plain": [
       "'\\nIn the scipy.stats module, there is no direct equivalent function for performing a z-test from a sample as there is for\\nthe t-test. This is because the z-test is typically applied when you know the population standard deviation, and\\nthe t-test is more commonly used when dealing with sample data or when the population standard deviation is unknown.\\n\\nIn practice, the z-test is often used when dealing with large sample sizes or when the population standard deviation is known.\\nIf the population standard deviation is unknown and needs to be estimated from the sample, the t-test is more appropriate.\\n\\n\\n'"
      ]
     },
     "execution_count": 26,
     "metadata": {},
     "output_type": "execute_result"
    }
   ],
   "source": [
    "\"\"\"\n",
    "In the scipy.stats module, there is no direct equivalent function for performing a z-test from a sample as there is for\n",
    "the t-test. This is because the z-test is typically applied when you know the population standard deviation, and\n",
    "the t-test is more commonly used when dealing with sample data or when the population standard deviation is unknown.\n",
    "\n",
    "In practice, the z-test is often used when dealing with large sample sizes or when the population standard deviation is known.\n",
    "If the population standard deviation is unknown and needs to be estimated from the sample, the t-test is more appropriate.\n",
    "\n",
    "\n",
    "\"\"\""
   ]
  },
  {
   "cell_type": "markdown",
   "metadata": {},
   "source": [
    "__A:__"
   ]
  },
  {
   "cell_type": "markdown",
   "metadata": {},
   "source": [
    "## Learning outcomes"
   ]
  },
  {
   "cell_type": "markdown",
   "metadata": {},
   "source": [
    "Having completed this project notebook, you now have good hands-on experience:\n",
    "* using the central limit theorem to help you apply frequentist techniques to answer questions that pertain to very non-normally distributed data from the real world\n",
    "* performing inference using such data to answer business questions\n",
    "* forming a hypothesis and framing the null and alternative hypotheses\n",
    "* testing this using a _t_-test"
   ]
  }
 ],
 "metadata": {
  "kernelspec": {
   "display_name": "Python 3 (ipykernel)",
   "language": "python",
   "name": "python3"
  },
  "language_info": {
   "codemirror_mode": {
    "name": "ipython",
    "version": 3
   },
   "file_extension": ".py",
   "mimetype": "text/x-python",
   "name": "python",
   "nbconvert_exporter": "python",
   "pygments_lexer": "ipython3",
   "version": "3.10.9"
  }
 },
 "nbformat": 4,
 "nbformat_minor": 2
}
